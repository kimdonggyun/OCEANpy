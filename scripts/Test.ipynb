{
 "cells": [
  {
   "cell_type": "markdown",
   "metadata": {},
   "source": [
    "# Test place for everything"
   ]
  },
  {
   "cell_type": "markdown",
   "metadata": {},
   "source": [
    "# import functions"
   ]
  },
  {
   "cell_type": "code",
   "execution_count": 17,
   "metadata": {},
   "outputs": [],
   "source": [
    "from sqlays import export_sql, import_sql\n",
    "from matheq import Cel_to_Kel, Kel_to_Cel, to_pot_temp\n",
    "from mapscre import station_map, bathy_data, contour_ver, TS_diagram\n",
    "from iscays import sum_up, vertical_plot, depth_bin_interval, particle_bin_interval, isc_xlsx \n",
    "from ctdays import find_start_row, raw_ctd_to_df\n",
    "from graphcre import deployment_constancy, vertical_each_org_distribution, stacked_vertical_distribution, comp_vertical_distribution "
   ]
  },
  {
   "cell_type": "markdown",
   "metadata": {},
   "source": [
    "# create TS diagram"
   ]
  },
  {
   "cell_type": "code",
   "execution_count": null,
   "metadata": {},
   "outputs": [],
   "source": [
    "ctd_df = export_sql('ctd', 'ctd_meta')\n",
    "#station_list = ['PS107_18']\n",
    "#ctd_df = ctd_df.loc[ctd_df['Event'].str.contains('|'.join(station_list))]\n",
    "ctd_df = ctd_df.loc[pd.to_numeric(ctd_df['Depth water [m]']) <=1000]\n",
    "depth = tuple(pd.to_numeric(ctd_df['Depth water [m]']))\n",
    "sal = tuple(pd.to_numeric(ctd_df['Sal']))\n",
    "temp = tuple(pd.to_numeric(ctd_df['Temp [°C]']))\n",
    "TSD_dict = {'temp': temp, 'sal': sal, 'depth':depth}\n",
    "TS_diagram(TSD_dict)\n"
   ]
  },
  {
   "cell_type": "markdown",
   "metadata": {},
   "source": [
    "# create contour map"
   ]
  },
  {
   "cell_type": "code",
   "execution_count": null,
   "metadata": {},
   "outputs": [],
   "source": [
    "ctd_df = export_sql('ctd', 'ctd_meta'); print(list(ctd_df))\n",
    "station_list = ['PS107_10', 'PS107_12', 'PS107_14', 'PS107_16', 'PS107_18']\n",
    "cols_to_use = ['Latitude', 'Longitude', 'Depth water [m]', 'Press [dbar]']\n",
    "ctd_df_filter = ctd_df.loc[ctd_df['Event'].str.contains('|'.join(station_list))] # select by station\n",
    "#ctd_df_filter = ctd_df_filter[cols_to_use] # select only necessary columns\n",
    "ctd_df_filter = ctd_df.loc[(pd.to_numeric(ctd_df['Latitude']) >=78.9) & (pd.to_numeric(ctd_df['Latitude']) <=79.1)] # select by lat and lon\n",
    "ctd_df_filter = ctd_df_filter.loc[(pd.to_numeric(ctd_df_filter['Depth water [m]']) <=1000)]\n",
    "ctd_df_filter = ctd_df_filter.dropna() # drop rows having empty value (empty values will affect contouring method)\n",
    "\n",
    "ctd_df_filter['d_n'] = ctd_df_filter.apply(lambda row: day_night(float(row['Latitude']), float(row['Longitude']), datetime.strptime(row['Date/Time'], '%Y-%m-%dT%H:%M')), axis=1 )\n",
    "ctd_df_filter = ctd_df_filter.loc[ctd_df_filter['d_n'] == 'day']\n",
    "\n",
    "depth = [i*(-1) for i in list(pd.to_numeric(ctd_df_filter['Depth water [m]']).values)]\n",
    "lat = list(pd.to_numeric(ctd_df_filter['Latitude']).values)\n",
    "lon = list(pd.to_numeric(ctd_df_filter['Longitude']).values)\n",
    "z = list(pd.to_numeric(ctd_df_filter['Press [dbar]']).values)\n",
    "\n",
    "ctd_array = np.array((lat, lon, z, depth)).transpose() # create array\n",
    "\n",
    "topo = bathy_data (75, 83, -30, 20)\n",
    "contour_ver(topo, 'lat', 79, (-5, 10), ctd_array)\n",
    "#contour_ver(topo, 'lon', 79, (-5, 10), ctd_array)\n",
    "\n",
    "\n",
    "\n"
   ]
  },
  {
   "cell_type": "markdown",
   "metadata": {},
   "source": [
    "# create station map"
   ]
  },
  {
   "cell_type": "code",
   "execution_count": null,
   "metadata": {},
   "outputs": [],
   "source": [
    "isc_df = export_sql('isc', 'isc_meta')\n",
    "cruise_list = ('PS107', 'PS114', 'PS121')\n",
    "cruise_dict = {}\n",
    "for cruise in cruise_list:\n",
    "    cruise_df = isc_df[isc_df['cruise_station_haul'].str.contains(cruise)]\n",
    "    cruise_dict[cruise] = (tuple(pd.to_numeric(cruise_df['lat'])) , tuple(pd.to_numeric(cruise_df['lon'])))\n",
    "\n",
    "topo = bathy_data (75, 83, -30, 20) # -30, 30, 75, 85\n",
    "station_map(cruise_dict, topo)"
   ]
  }
 ],
 "metadata": {
  "kernelspec": {
   "display_name": "Python [conda env:.conda-dong_env]",
   "language": "python",
   "name": "conda-env-.conda-dong_env-py"
  },
  "language_info": {
   "codemirror_mode": {
    "name": "ipython",
    "version": 3
   },
   "file_extension": ".py",
   "mimetype": "text/x-python",
   "name": "python",
   "nbconvert_exporter": "python",
   "pygments_lexer": "ipython3",
   "version": "3.8.5"
  }
 },
 "nbformat": 4,
 "nbformat_minor": 4
}
