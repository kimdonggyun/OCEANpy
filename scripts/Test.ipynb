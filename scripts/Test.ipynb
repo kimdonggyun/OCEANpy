{
 "cells": [
  {
   "cell_type": "markdown",
   "metadata": {},
   "source": [
    "# Test place for everything"
   ]
  },
  {
   "cell_type": "markdown",
   "metadata": {},
   "source": [
    "# import functions"
   ]
  },
  {
   "cell_type": "code",
   "execution_count": 1,
   "metadata": {},
   "outputs": [],
   "source": [
    "from sqlays import export_sql, import_sql\n",
    "from matheq import Cel_to_Kel, Kel_to_Cel, to_pot_temp\n",
    "from mapscre import station_map, bathy_data, contour_ver, TS_diagram\n",
    "from iscays import sum_up, vertical_plot, depth_bin_interval, particle_bin_interval, isc_xlsx \n",
    "from ctdays import find_start_row, raw_ctd_to_df\n",
    "from graphcre import deployment_constancy, vertical_each_org_distribution, stacked_vertical_distribution, comp_vertical_distribution \n",
    "from matplotlib import pyplot as plt\n",
    "import pandas as pd\n",
    "import os, glob"
   ]
  },
  {
   "cell_type": "markdown",
   "metadata": {},
   "source": [
    "# extract data and image from LOKI_browser by certain interval (distance)"
   ]
  },
  {
   "cell_type": "code",
   "execution_count": null,
   "metadata": {},
   "outputs": [],
   "source": [
    "proj_dir = ('') # dir of folder extracted from loki_browser\n",
    "meta_df =  glob.glob(os.path.join(proj_dir,'*.csv')) # glob meta data to get the info\n",
    "\n",
    "image_datetime = meta_df['Image']\n",
    "\n"
   ]
  },
  {
   "cell_type": "markdown",
   "metadata": {},
   "source": [
    "# particle VS zooplankton"
   ]
  },
  {
   "cell_type": "code",
   "execution_count": 2,
   "metadata": {},
   "outputs": [],
   "source": [
    "file_path = os.path.expanduser('~/Git/OCEANpy/data')\n",
    "loki_df = export_sql('loki', ['ps107'], 'awi_server')\n",
    "isc_stb = export_sql('isc', 'isc_meta', 'local')\n",
    "isc_file_list = glob.glob(file_path+os.sep+'isc'+os.sep+'*.xlsx')\n",
    "isc_each_df = isc_stb[isc_stb['cruise_station_haul'].str.contains('PS107') & isc_stb['profile_number'].notnull()] # select based on the cruise\n"
   ]
  },
  {
   "cell_type": "code",
   "execution_count": 11,
   "metadata": {},
   "outputs": [],
   "source": [
    "for index, value in isc_each_df.iterrows():\n",
    "    # select one station from one isc station and get cruise name, station number and profilenumber of ISC\n",
    "    cruise, station, profile_num = value['cruise_station_haul'].split('_')[0], int(float(value['cruise_station_haul'].split('_')[1])), int(float(value['profile_number']))\n",
    "    \n",
    "    # Based on the cruise and profilenumber of ISC import data from excel file\n",
    "    isc_excel = str('IR'+str(profile_num).zfill(2)+'_DownCast_'+cruise+'.xlsx')\n",
    "    for i in isc_file_list:\n",
    "        if i.split(os.sep)[-1] == isc_excel:\n",
    "            particle_range = [150, 500, 1000, 100000]\n",
    "            \n",
    "            # from here specific station.\n",
    "            isc_ctd_df, vol_spec_df, aggr_con_df, size_spec_df = isc_xlsx(i, 10, particle_range)\n",
    "            vol, abd, isc_ctd, ctd_dict = vertical_plot(isc_ctd_df, vol_spec_df, aggr_con_df, 'delete', particle_range)\n",
    "            loki_station_df = loki_df[loki_df['station'].str.contains(cruise+'_'+str(station).zfill(3))]\n",
    "            if loki_station_df.empty:\n",
    "                continue\n",
    "            else:\n",
    "                copepoda_df = loki_station_df[loki_station_df['copepod']==True]\n",
    "                copepoda_depth = copepoda_df['loki_depth'].to_list()\n",
    "                \n",
    "                fig, axs = plt.subplots(3,3, figsize = (10, 15))\n",
    "                axs = axs.ravel()\n",
    "\n",
    "                # 1st plot for temperature and salanity / data from ISC CTD\n",
    "                axs[0].plot(isc_ctd['temp'], isc_ctd['depth'], color='red', linewidth= 1, alpha=0.7)\n",
    "                axs[0].set_ylabel(ctd_dict['depth'], color ='black')\n",
    "                axs[0].set_xlabel(ctd_dict['temp'], color = 'red')\n",
    "                axs[0].set_xlim(-3, 9)\n",
    "                axs[0].set_ylim(0,500)\n",
    "                axs[0].invert_yaxis()\n",
    "\n",
    "\n",
    "                sec_axs = axs[0].twiny()\n",
    "                sec_axs.plot(isc_ctd['sal'], isc_ctd['depth'], color ='blue', linewidth= 1, alpha=0.7)\n",
    "                sec_axs.set_xlabel(ctd_dict['sal'], color = 'blue')\n",
    "                sec_axs.set_xlim(30, 36)\n",
    "\n",
    "                # 2nd plot for turbidity and Fluorescence / data from ISC CTD\n",
    "                axs[3].plot(isc_ctd['turb'], isc_ctd['depth'], color='red', linewidth= 1, alpha=0.7)\n",
    "                axs[3].set_ylabel(ctd_dict['depth'], color ='black')\n",
    "                axs[3].set_xlabel(ctd_dict['turb'], color = 'red')\n",
    "                axs[3].set_xlim(-0.5, 6)\n",
    "                axs[3].set_ylim(0,500)\n",
    "                axs[3].invert_yaxis()\n",
    "\n",
    "\n",
    "                sec_axs = axs[3].twiny()\n",
    "                sec_axs.plot(isc_ctd['fluo'], isc_ctd['depth'], color ='blue', linewidth= 1, alpha=0.7)\n",
    "                sec_axs.set_xlabel(ctd_dict['fluo'], color = 'blue')\n",
    "                sec_axs.set_xlim(-0.5, 6)\n",
    "\n",
    "                # 3rd plot for Total Aggregate Volume and Aggregate abundance\n",
    "                axs[1].plot(vol['vol_sml'], isc_ctd['depth'], color='red', linewidth= 1, alpha=0.7)\n",
    "                axs[1].set_xlabel('vol 0.15-0.5 [mm]', color = 'red')\n",
    "                axs[1].set_ylim(0,500)\n",
    "                axs[1].invert_yaxis()\n",
    "\n",
    "                sec_axs = axs[1].twiny()\n",
    "                sec_axs.plot(vol['vol_med'], isc_ctd['depth'], color ='blue', linewidth= 1, alpha=0.7)\n",
    "                sec_axs.set_xlabel('vol 0.5-1 [mm]', color = 'blue')\n",
    "\n",
    "                # 4th plot for vol_median ESD and Average ESD\n",
    "                axs[4].plot(vol['vol_lrg'], isc_ctd['depth'], color='red', linewidth= 1, alpha=0.7)\n",
    "                axs[4].set_xlabel('vol 1 [mm] > ', color = 'red')\n",
    "                axs[4].set_ylim(0,500)\n",
    "                axs[4].invert_yaxis()\n",
    "\n",
    "                sec_axs = axs[4].twiny()\n",
    "                sec_axs.plot(vol['vol_tol'], isc_ctd['depth'], color ='blue', linewidth= 1, alpha=0.7)\n",
    "                sec_axs.set_xlabel('vol total (0.15 [mm] > )', color = 'blue')\n",
    "\n",
    "                # 5th plot for Total Aggregate Volume and Aggregate abundance\n",
    "                axs[2].plot(abd['abd_sml'], isc_ctd['depth'], color='red', linewidth= 1, alpha=0.7)\n",
    "                axs[2].set_xlabel('abd 0.15-0.5 [mm]', color = 'red')\n",
    "                axs[2].set_ylim(0,500)\n",
    "                axs[2].invert_yaxis()\n",
    "\n",
    "                sec_axs = axs[2].twiny()\n",
    "                sec_axs.plot(abd['abd_med'], isc_ctd['depth'], color ='blue', linewidth= 1, alpha=0.7)\n",
    "                sec_axs.set_xlabel('abd 0.5-1 [mm]', color = 'blue')\n",
    "\n",
    "                # 6th plot for vol_median ESD and Average ESD\n",
    "                axs[5].plot(abd['abd_lrg'], isc_ctd['depth'], color='red', linewidth= 1, alpha=0.7)\n",
    "                axs[5].set_xlabel('abd 1 [mm] > ', color = 'red')\n",
    "                axs[5].set_ylim(0,500)\n",
    "                axs[5].invert_yaxis()\n",
    "\n",
    "                sec_axs = axs[5].twiny()\n",
    "                sec_axs.plot(abd['abd_tol'], isc_ctd['depth'], color ='blue', linewidth= 1, alpha=0.7)\n",
    "                sec_axs.set_xlabel('abd total (0.15 [mm] > )', color = 'blue')\n",
    "                \n",
    "                # plot for zooplankton\n",
    "                axs[6].hist(copepoda_depth, orientation='horizontal', bins = int(max(copepoda_depth)/10), color ='black')\n",
    "                axs[6].set_ylim(0,500)\n",
    "                axs[6].set_xlabel('copepoda [count]', color = 'black')\n",
    "                axs[6].invert_yaxis()\n",
    "                \n",
    "\n",
    "                # addtional plot modification\n",
    "                fig.tight_layout(pad=3, h_pad=1, w_pad=1) # adjust layout of subplots\n",
    "                #plt.suptitle(title, y = 0.99) # main title\n",
    "                \n",
    "                os.chdir(os.path.expanduser('~/Git/OCEANpy/plots'))\n",
    "                fig_name = str('isc_loki_comp'+cruise+'_'+str(station)+'.png')\n",
    "                plt.savefig(fig_name)\n",
    "                plt.close()\n",
    "                "
   ]
  },
  {
   "cell_type": "markdown",
   "metadata": {},
   "source": [
    "# create TS diagram"
   ]
  },
  {
   "cell_type": "code",
   "execution_count": null,
   "metadata": {},
   "outputs": [],
   "source": [
    "ctd_df = export_sql('ctd', 'ctd_meta')\n",
    "#station_list = ['PS107_18']\n",
    "#ctd_df = ctd_df.loc[ctd_df['Event'].str.contains('|'.join(station_list))]\n",
    "ctd_df = ctd_df.loc[pd.to_numeric(ctd_df['Depth water [m]']) <=1000]\n",
    "depth = tuple(pd.to_numeric(ctd_df['Depth water [m]']))\n",
    "sal = tuple(pd.to_numeric(ctd_df['Sal']))\n",
    "temp = tuple(pd.to_numeric(ctd_df['Temp [°C]']))\n",
    "TSD_dict = {'temp': temp, 'sal': sal, 'depth':depth}\n",
    "TS_diagram(TSD_dict)\n"
   ]
  },
  {
   "cell_type": "markdown",
   "metadata": {},
   "source": [
    "# create contour plot"
   ]
  },
  {
   "cell_type": "code",
   "execution_count": null,
   "metadata": {},
   "outputs": [],
   "source": [
    "ctd_df = export_sql('ctd', 'ctd_meta'); print(list(ctd_df))\n",
    "station_list = ['PS107_10', 'PS107_12', 'PS107_14', 'PS107_16', 'PS107_18']\n",
    "cols_to_use = ['Latitude', 'Longitude', 'Depth water [m]', 'Press [dbar]']\n",
    "ctd_df_filter = ctd_df.loc[ctd_df['Event'].str.contains('|'.join(station_list))] # select by station\n",
    "#ctd_df_filter = ctd_df_filter[cols_to_use] # select only necessary columns\n",
    "ctd_df_filter = ctd_df.loc[(pd.to_numeric(ctd_df['Latitude']) >=78.9) & (pd.to_numeric(ctd_df['Latitude']) <=79.1)] # select by lat and lon\n",
    "ctd_df_filter = ctd_df_filter.loc[(pd.to_numeric(ctd_df_filter['Depth water [m]']) <=1000)]\n",
    "ctd_df_filter = ctd_df_filter.dropna() # drop rows having empty value (empty values will affect contouring method)\n",
    "\n",
    "ctd_df_filter['d_n'] = ctd_df_filter.apply(lambda row: day_night(float(row['Latitude']), float(row['Longitude']), datetime.strptime(row['Date/Time'], '%Y-%m-%dT%H:%M')), axis=1 )\n",
    "ctd_df_filter = ctd_df_filter.loc[ctd_df_filter['d_n'] == 'day']\n",
    "\n",
    "depth = [i*(-1) for i in list(pd.to_numeric(ctd_df_filter['Depth water [m]']).values)]\n",
    "lat = list(pd.to_numeric(ctd_df_filter['Latitude']).values)\n",
    "lon = list(pd.to_numeric(ctd_df_filter['Longitude']).values)\n",
    "z = list(pd.to_numeric(ctd_df_filter['Press [dbar]']).values)\n",
    "\n",
    "ctd_array = np.array((lat, lon, z, depth)).transpose() # create array\n",
    "\n",
    "topo = bathy_data (75, 83, -30, 20)\n",
    "contour_ver(topo, 'lat', 79, (-5, 10), ctd_array)\n",
    "#contour_ver(topo, 'lon', 79, (-5, 10), ctd_array)\n",
    "\n",
    "\n",
    "\n"
   ]
  },
  {
   "cell_type": "markdown",
   "metadata": {},
   "source": [
    "# create station map"
   ]
  },
  {
   "cell_type": "code",
   "execution_count": null,
   "metadata": {},
   "outputs": [],
   "source": [
    "isc_df = export_sql('isc', 'isc_meta')\n",
    "cruise_list = ('PS107', 'PS114', 'PS121')\n",
    "cruise_dict = {}\n",
    "for cruise in cruise_list:\n",
    "    cruise_df = isc_df[isc_df['cruise_station_haul'].str.contains(cruise)]\n",
    "    cruise_dict[cruise] = (tuple(pd.to_numeric(cruise_df['lat'])) , tuple(pd.to_numeric(cruise_df['lon'])))\n",
    "\n",
    "topo = bathy_data (75, 83, -30, 20) # -30, 30, 75, 85\n",
    "station_map(cruise_dict, topo)"
   ]
  },
  {
   "cell_type": "markdown",
   "metadata": {},
   "source": [
    "# get data from SQL"
   ]
  },
  {
   "cell_type": "code",
   "execution_count": null,
   "metadata": {},
   "outputs": [],
   "source": [
    "action = 'export'\n",
    "if action == 'export':\n",
    "    edit = ['ps107'] # cruise name (in list, case insensitive) for AWI server and table name for local\n",
    "    df = export_sql('loki', edit, 'awi_server')\n",
    "    print(df)\n",
    "\n",
    "elif action == 'import':\n",
    "    filepath = os.path.expanduser('~/Git/OCEANpy/data/loki/LOKI_station.xlsx')\n",
    "    df = pd.read_excel(filepath)\n",
    "    # df = raw_ctd_to_df(filepath) # processing for raw ctd file\n",
    "    import_sql('loki', 'loki_meta', df, 'replace')"
   ]
  },
  {
   "cell_type": "markdown",
   "metadata": {},
   "source": [
    "# ISC data"
   ]
  },
  {
   "cell_type": "code",
   "execution_count": null,
   "metadata": {},
   "outputs": [],
   "source": [
    "file_path = os.path.expanduser('~/Git/OCEANpy')\n",
    "for excel_file in glob.glob(file_path+os.sep+'data'+os.sep+'isc'+os.sep+'IR*.xlsx'):\n",
    "    particle_range = [150, 500, 1000, 100000]\n",
    "    ctd_df, vol_spec_df, aggr_con_df, size_spec_df = isc_xlsx(excel_file, 10, particle_range)\n",
    "    vertical_plot(ctd_df, vol_spec_df, aggr_con_df, excel_file.split(os.sep)[-1].replace('.xlsx', ''), particle_range)"
   ]
  }
 ],
 "metadata": {
  "kernelspec": {
   "display_name": "Python [conda env:.conda-dong_env]",
   "language": "python",
   "name": "conda-env-.conda-dong_env-py"
  },
  "language_info": {
   "codemirror_mode": {
    "name": "ipython",
    "version": 3
   },
   "file_extension": ".py",
   "mimetype": "text/x-python",
   "name": "python",
   "nbconvert_exporter": "python",
   "pygments_lexer": "ipython3",
   "version": "3.8.5"
  }
 },
 "nbformat": 4,
 "nbformat_minor": 4
}
