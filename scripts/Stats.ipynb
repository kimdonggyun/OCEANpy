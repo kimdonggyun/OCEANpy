{
 "cells": [
  {
   "cell_type": "markdown",
   "metadata": {},
   "source": [
    "# Statistics"
   ]
  },
  {
   "cell_type": "markdown",
   "metadata": {},
   "source": [
    "# import functions"
   ]
  },
  {
   "cell_type": "code",
   "execution_count": 29,
   "metadata": {},
   "outputs": [],
   "source": [
    "from sqlays import export_sql, import_sql\n",
    "from matheq import Cel_to_Kel, Kel_to_Cel, to_pot_temp\n",
    "from mapscre import station_map, bathy_data, contour_ver, TS_diagram\n",
    "from iscays import sum_up, isc_summary, depth_bin_interval, particle_bin_interval, isc_xlsx, read_isc\n",
    "from ctdays import find_start_row, raw_ctd_to_df\n",
    "from graphcre import deployment_constancy, vertical_each_org_distribution, stacked_vertical_distribution, comp_vertical_distribution\n",
    "from matheq import calDist\n",
    "from matplotlib import pyplot as plt\n",
    "from matplotlib import gridspec\n",
    "import pandas as pd\n",
    "import numpy as np\n",
    "import scipy.stats as stats\n",
    "import os, glob, datetime, gsw, cmocean, math\n",
    "from scipy.stats import linregress\n",
    "from timeinfo import day_night"
   ]
  },
  {
   "cell_type": "markdown",
   "metadata": {},
   "source": [
    "# import data"
   ]
  },
  {
   "cell_type": "code",
   "execution_count": 7,
   "metadata": {},
   "outputs": [],
   "source": [
    "file_path = os.path.expanduser('~/Git/OCEANpy/data')\n",
    "loki_df = export_sql('loki', 'all', 'awi_server')\n",
    "ctd_df = export_sql('ctd', 'ctd_meta', 'local')\n",
    "isc_stb = export_sql('isc', 'isc_meta', 'local')\n",
    "isc_file_list = glob.glob(file_path+os.sep+'isc'+os.sep+'*.xlsx')"
   ]
  },
  {
   "cell_type": "markdown",
   "metadata": {},
   "source": [
    "# data pre-processing"
   ]
  },
  {
   "cell_type": "code",
   "execution_count": 58,
   "metadata": {},
   "outputs": [
    {
     "name": "stdout",
     "output_type": "stream",
     "text": [
      "['vessel', 'cruise', 'station', 'region', 'latitude', 'longitude', 'bottom_depth', 'date_time', 'loki_depth', 'temperatue', 'salinity', 'oxygen', 'fluorescence', 'manual_classification', 'developmental_stage', 'area_pixel', 'area_sqrmm', 'spec_length', 'spec_width', 'image_filename', 'animal', 'copepod', 'phylum', 'class', 'spec_order', 'family', 'genus', 'species']\n"
     ]
    }
   ],
   "source": [
    "wm_dict = {'PS107_010-5': (70, 95), 'PS107_012-4': (70, 155), 'PS107_014-5': (50, 215), 'PS107_016-4': (100, 270)}\n",
    "loki_stations = ('PS107_010-5', 'PS107_012-4', 'PS107_014-5', 'PS107_016-4')\n",
    "loki_df_sel = loki_df.loc[loki_df['station'].str.contains('|'.join(loki_stations))]\n",
    "print(list(loki_df_sel))\n",
    "sp_col = ['Chaetognatha', 'Rhizaria', 'Ostracoda', 'Calanus', 'Heterorhabdus', 'Metridia', 'Microcalanus',\n",
    "          'Oithona', 'Oncaea', 'Paraeuchaeta', 'Pseudocalanus', 'Themisto']\n",
    "\n",
    "\n",
    "sf_df = pd.DataFrame() # surface water mass df\n",
    "aw_df = pd.DataFrame() # atlantic water mass df\n",
    "adw_df = pd.DataFrame() # atlantic dense water mass df\n",
    "\n",
    "for s in loki_stations:\n",
    "    \n",
    "    # count the sp with 5m depth bin\n",
    "    each_st_df = loki_df_sel.loc[loki_df_sel['station'] == s]\n",
    "    each_st_bin_df = pd.DataFrame(columns=sp_col)\n",
    "    row = 0\n",
    "    for d in range(0, math.ceil(max(each_st_df['loki_depth'])), 5):\n",
    "        bin_df = each_st_df.loc[(each_st_df['loki_depth'] >= d) & (each_st_df['loki_depth'] < d+5)]\n",
    "        for c in sp_col:\n",
    "            if c == 'Chaetognatha' or c == 'Rhizaria': # check onlyin col = phylum\n",
    "                count = bin_df['phylum'].loc[bin_df['phylum']==c].count()\n",
    "                each_st_bin_df.loc[row, c] = count\n",
    "\n",
    "            elif c == 'Ostracoda': # check onlyin col = class\n",
    "                count = bin_df['class'].loc[bin_df['class']==c].count()\n",
    "                each_st_bin_df.loc[row, c] = count\n",
    "                \n",
    "            else: # check onlyin col = genus\n",
    "                count = bin_df['genus'].loc[bin_df['genus']==c].count()\n",
    "                each_st_bin_df.loc[row, c] = count\n",
    "        each_st_bin_df.loc[row, 'depth'] = d+2.5\n",
    "        row += 1\n",
    "        \n",
    "    \n",
    "    # move data to following water mass\n",
    "    up, down = wm_dict[s]\n",
    "    sf_df = sf_df.append(each_st_bin_df.loc[(each_st_bin_df['depth']>=0) & (each_st_bin_df['depth']<up)])\n",
    "    aw_df = aw_df.append(each_st_bin_df.loc[(each_st_bin_df['depth']>=up) & (each_st_bin_df['depth']<down)])\n",
    "    adw_df = adw_df.append(each_st_bin_df.loc[each_st_bin_df['depth']>=down])\n",
    "    \n",
    "sf_df.reset_index(drop=True, inplace = True)\n",
    "aw_df.reset_index(drop=True, inplace = True)\n",
    "adw_df.reset_index(drop=True, inplace = True)"
   ]
  },
  {
   "cell_type": "code",
   "execution_count": null,
   "metadata": {},
   "outputs": [],
   "source": []
  },
  {
   "cell_type": "markdown",
   "metadata": {},
   "source": [
    "# Linear Discriminant analysis"
   ]
  },
  {
   "cell_type": "code",
   "execution_count": null,
   "metadata": {},
   "outputs": [],
   "source": []
  }
 ],
 "metadata": {
  "kernelspec": {
   "display_name": "Python [conda env:.conda-dong_env]",
   "language": "python",
   "name": "conda-env-.conda-dong_env-py"
  },
  "language_info": {
   "codemirror_mode": {
    "name": "ipython",
    "version": 3
   },
   "file_extension": ".py",
   "mimetype": "text/x-python",
   "name": "python",
   "nbconvert_exporter": "python",
   "pygments_lexer": "ipython3",
   "version": "3.8.3"
  }
 },
 "nbformat": 4,
 "nbformat_minor": 4
}
