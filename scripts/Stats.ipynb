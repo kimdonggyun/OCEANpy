{
 "cells": [
  {
   "cell_type": "markdown",
   "metadata": {},
   "source": [
    "# Statistics"
   ]
  },
  {
   "cell_type": "markdown",
   "metadata": {},
   "source": [
    "# import functions"
   ]
  },
  {
   "cell_type": "code",
   "execution_count": 1,
   "metadata": {},
   "outputs": [],
   "source": [
    "from sqlays import export_sql, import_sql\n",
    "from matheq import Cel_to_Kel, Kel_to_Cel, to_pot_temp\n",
    "from mapscre import station_map, bathy_data, contour_ver, TS_diagram\n",
    "from iscays import sum_up, isc_summary, depth_bin_interval, particle_bin_interval, isc_xlsx, read_isc\n",
    "from ctdays import find_start_row, raw_ctd_to_df\n",
    "from graphcre import deployment_constancy, vertical_each_org_distribution, stacked_vertical_distribution, comp_vertical_distribution\n",
    "from matheq import calDist\n",
    "from matplotlib import pyplot as plt\n",
    "from matplotlib import gridspec\n",
    "import pandas as pd\n",
    "import numpy as np\n",
    "import scipy.stats as stats\n",
    "import os, glob, datetime, gsw, cmocean\n",
    "from scipy.stats import linregress\n",
    "from timeinfo import day_night"
   ]
  },
  {
   "cell_type": "markdown",
   "metadata": {},
   "source": [
    "# import data"
   ]
  },
  {
   "cell_type": "code",
   "execution_count": 7,
   "metadata": {},
   "outputs": [],
   "source": [
    "file_path = os.path.expanduser('~/Git/OCEANpy/data')\n",
    "loki_df = export_sql('loki', 'all', 'awi_server')\n",
    "ctd_df = export_sql('ctd', 'ctd_meta', 'local')\n",
    "isc_stb = export_sql('isc', 'isc_meta', 'local')\n",
    "isc_file_list = glob.glob(file_path+os.sep+'isc'+os.sep+'*.xlsx')"
   ]
  },
  {
   "cell_type": "markdown",
   "metadata": {},
   "source": [
    "# data pre-processing"
   ]
  },
  {
   "cell_type": "code",
   "execution_count": 23,
   "metadata": {},
   "outputs": [
    {
     "name": "stdout",
     "output_type": "stream",
     "text": [
      "['vessel', 'cruise', 'station', 'region', 'latitude', 'longitude', 'bottom_depth', 'date_time', 'loki_depth', 'temperatue', 'salinity', 'oxygen', 'fluorescence', 'manual_classification', 'developmental_stage', 'area_pixel', 'area_sqrmm', 'spec_length', 'spec_width', 'image_filename', 'animal', 'copepod', 'phylum', 'class', 'spec_order', 'family', 'genus', 'species']\n",
      "[False, True]\n",
      "[False, True]\n",
      "['bubble', 'detritus', 'Crustacea', 'Chaetognatha', 'Animalia', 'Rhizaria', 'Cnidaria', 'Ctenophora', 'Mollusca', 'Annelida']\n",
      "[None, 'Copepoda', 'Ostracoda', 'egg', 'Unknown marine', 'Radiozoa', 'Sagittoidea', 'Malacostraca', 'feces', 'Hydrozoa', 'Exuvia', 'Gastropoda', 'Polychaeta']\n",
      "[None, 'Cyclopoida', 'Calanoida', 'Acantharia', 'Phragmophora', 'Amphipoda', 'Trachymedusae', 'Euphausiacea', 'Siphonophorae', 'Isopoda', 'Acantharea like', 'Harpacticoida', 'Euthecosomata']\n",
      "[None, 'Oncaeidae', 'Clausocalanidae', 'Calanidae', 'Oithonidae', 'Metridinidae', 'Acantharia III', 'Euchaetidae', 'Scolecitrichidae', 'Eukrohniidae', 'Hyperiidae', 'Acantharia III X', 'Rhopalonematidae', 'Heterorhabdidae', 'Aetideidae', 'Acantharia IV X sp.', 'Euphausiidae', 'Spinocalanidae', 'Acantharea X', 'Ectinosomatidae', 'Acantharea', 'Acantharia III X sp.', 'Limacinidae', 'Bathypontiidae']\n",
      "[None, 'Oncaea', 'Pseudocalanus', 'Calanus', 'Microcalanus', 'Oithona', 'Metridia', 'Paraeuchaeta', 'Scolecithricella', 'Eukrohnia', 'Themisto', 'Aglantha', 'Gaetanus', 'Thysanoessa', 'Scaphocalanus', 'Spinocalanus', 'Microsetella', 'Heterorhabdus', 'Limacina', 'Temorites', 'Pleuromamma']\n",
      "[None, 'Calanus hyperboreus', 'Metridia longa', 'Scolecithricella minor', 'Eukrohnia hamata', 'Themisto libellula', 'Aglantha digitale', 'Themisto abyssorum', 'Scaphocalanus magnus', 'Spinocalanus magnus', 'Gaetanus tenuispinus', 'Gaetanus brevispinus', 'Microsetella norvegica', 'Heterorhabdus norvegicus', 'Limacina retroversa', 'Temorites brevis', 'Paraeuchaeta glacialis', 'Paraeuchaeta norvegica']\n"
     ]
    }
   ],
   "source": [
    "wm_dict = {10: (70, 95), 12: (70, 155), 14: (50, 215), 16: (100, 270)}\n",
    "loki_stations = ('PS107_010-5', 'PS107_012-4', 'PS107_014-5', 'PS107_016-4')\n",
    "loki_df_sel = loki_df.loc[loki_df['station'].str.contains('|'.join(loki_stations))]\n",
    "print(list(loki_df_sel))\n",
    "print(list(loki_df_sel['phylum'].drop_duplicates())) # Chaetognatha, Rhizaria\n",
    "print(list(loki_df_sel['class'].drop_duplicates())) # Ostracoda\n",
    "print(list(loki_df_sel['genus'].drop_duplicates()))\n",
    "#[None, 'Oncaea', 'Pseudocalanus', 'Calanus', 'Microcalanus', 'Oithona', 'Metridia', 'Paraeuchaeta',\n",
    "#'Scolecithricella', 'Eukrohnia', 'Themisto', 'Aglantha', 'Gaetanus', 'Thysanoessa', 'Scaphocalanus',\n",
    "#'Spinocalanus', 'Microsetella', 'Heterorhabdus', 'Limacina', 'Temorites', 'Pleuromamma']\n",
    "sp_col = ['']"
   ]
  },
  {
   "cell_type": "markdown",
   "metadata": {},
   "source": [
    "# Linear Discriminant analysis"
   ]
  },
  {
   "cell_type": "code",
   "execution_count": null,
   "metadata": {},
   "outputs": [],
   "source": []
  }
 ],
 "metadata": {
  "kernelspec": {
   "display_name": "Python [conda env:.conda-dong_env]",
   "language": "python",
   "name": "conda-env-.conda-dong_env-py"
  },
  "language_info": {
   "codemirror_mode": {
    "name": "ipython",
    "version": 3
   },
   "file_extension": ".py",
   "mimetype": "text/x-python",
   "name": "python",
   "nbconvert_exporter": "python",
   "pygments_lexer": "ipython3",
   "version": "3.8.3"
  }
 },
 "nbformat": 4,
 "nbformat_minor": 4
}
