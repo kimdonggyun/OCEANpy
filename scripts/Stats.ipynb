{
 "cells": [
  {
   "cell_type": "markdown",
   "metadata": {},
   "source": [
    "# Statistics"
   ]
  },
  {
   "cell_type": "markdown",
   "metadata": {},
   "source": [
    "# import functions"
   ]
  },
  {
   "cell_type": "code",
   "execution_count": 62,
   "metadata": {},
   "outputs": [],
   "source": [
    "from sqlays import export_sql, import_sql\n",
    "from matheq import Cel_to_Kel, Kel_to_Cel, to_pot_temp\n",
    "from mapscre import station_map, bathy_data, contour_ver, TS_diagram\n",
    "from iscays import sum_up, isc_summary, depth_bin_interval, particle_bin_interval, isc_xlsx, read_isc\n",
    "from ctdays import find_start_row, raw_ctd_to_df\n",
    "from graphcre import deployment_constancy, vertical_each_org_distribution, stacked_vertical_distribution, comp_vertical_distribution\n",
    "from matheq import calDist\n",
    "from timeinfo import day_night\n",
    "from matplotlib import pyplot as plt\n",
    "from matplotlib import gridspec\n",
    "import pandas as pd\n",
    "import numpy as np\n",
    "import scipy.stats as stats\n",
    "import os, glob, datetime, gsw, cmocean, math\n",
    "from scipy.stats import linregress\n",
    "from sklearn.preprocessing import StandardScaler\n",
    "from sklearn.discriminant_analysis import LinearDiscriminantAnalysis\n",
    "\n"
   ]
  },
  {
   "cell_type": "markdown",
   "metadata": {},
   "source": [
    "# import data"
   ]
  },
  {
   "cell_type": "code",
   "execution_count": 78,
   "metadata": {},
   "outputs": [],
   "source": [
    "file_path = os.path.expanduser('~/Git/OCEANpy/data')\n",
    "loki_df = export_sql('loki', 'all', 'awi_server')\n",
    "ctd_df = export_sql('ctd', 'ctd_meta', 'local')\n",
    "isc_stb = export_sql('isc', 'isc_meta', 'local')\n",
    "isc_file_list = glob.glob(file_path+os.sep+'isc'+os.sep+'*.xlsx')\n",
    "isc_each_stb = isc_stb[isc_stb['cruise_station_haul'].str.contains('PS107') & isc_stb['profile_number'].notnull()]"
   ]
  },
  {
   "cell_type": "markdown",
   "metadata": {},
   "source": [
    "# data pre-processing"
   ]
  },
  {
   "cell_type": "code",
   "execution_count": 107,
   "metadata": {},
   "outputs": [
    {
     "name": "stdout",
     "output_type": "stream",
     "text": [
      "['vessel', 'cruise', 'station', 'region', 'latitude', 'longitude', 'bottom_depth', 'date_time', 'loki_depth', 'temperatue', 'salinity', 'oxygen', 'fluorescence', 'manual_classification', 'developmental_stage', 'area_pixel', 'area_sqrmm', 'spec_length', 'spec_width', 'image_filename', 'animal', 'copepod', 'phylum', 'class', 'spec_order', 'family', 'genus', 'species']\n"
     ]
    }
   ],
   "source": [
    "# data processing for LOKI data\n",
    "wm_dict = {'PS107_010-5': (70, 95), 'PS107_012-4': (70, 155), 'PS107_014-5': (50, 215), 'PS107_016-4': (100, 270)}\n",
    "loki_stations = ('PS107_010-5', 'PS107_012-4', 'PS107_014-5', 'PS107_016-4')\n",
    "loki_df_sel = loki_df.loc[loki_df['station'].str.contains('|'.join(loki_stations))]\n",
    "print(list(loki_df_sel))\n",
    "sp_col = ['Chaetognatha', 'Rhizaria', 'Ostracoda', 'Calanus', 'Heterorhabdus', 'Metridia', 'Microcalanus',\n",
    "          'Oithona', 'Oncaea', 'Paraeuchaeta', 'Pseudocalanus', 'Themisto']\n",
    "\n",
    "\n",
    "sf_df = pd.DataFrame() # surface water mass df\n",
    "aw_df = pd.DataFrame() # atlantic water mass df\n",
    "adw_df = pd.DataFrame() # atlantic dense water mass df\n",
    "\n",
    "for s in loki_stations:\n",
    "    \n",
    "    # count the sp with 5m depth bin\n",
    "    each_st_df = loki_df_sel.loc[loki_df_sel['station'] == s]\n",
    "    each_st_bin_df = pd.DataFrame(columns=sp_col)\n",
    "    row = 0\n",
    "    for d in range(0, math.ceil(max(each_st_df['loki_depth'])), 5):\n",
    "        bin_df = each_st_df.loc[(each_st_df['loki_depth'] >= d) & (each_st_df['loki_depth'] < d+5)]\n",
    "        for c in sp_col:\n",
    "            if c == 'Chaetognatha' or c == 'Rhizaria': # check onlyin col = phylum\n",
    "                count = bin_df['phylum'].loc[bin_df['phylum']==c].count()\n",
    "                each_st_bin_df.loc[row, c] = count\n",
    "\n",
    "            elif c == 'Ostracoda': # check onlyin col = class\n",
    "                count = bin_df['class'].loc[bin_df['class']==c].count()\n",
    "                each_st_bin_df.loc[row, c] = count\n",
    "                \n",
    "            else: # check onlyin col = genus\n",
    "                count = bin_df['genus'].loc[bin_df['genus']==c].count()\n",
    "                each_st_bin_df.loc[row, c] = count\n",
    "        each_st_bin_df.loc[row, 'depth'] = d+5\n",
    "        row += 1\n",
    "        \n",
    "    \n",
    "    # move data to following water mass\n",
    "    up, down = wm_dict[s]\n",
    "    sf_df = sf_df.append(each_st_bin_df.loc[(each_st_bin_df['depth']>=0) & (each_st_bin_df['depth']<up)])\n",
    "    aw_df = aw_df.append(each_st_bin_df.loc[(each_st_bin_df['depth']>=up) & (each_st_bin_df['depth']<down)])\n",
    "    adw_df = adw_df.append(each_st_bin_df.loc[each_st_bin_df['depth']>=down])\n",
    "    \n",
    "sf_df.reset_index(drop=True, inplace = True)\n",
    "aw_df.reset_index(drop=True, inplace = True)\n",
    "adw_df.reset_index(drop=True, inplace = True)\n",
    "\n",
    "sf_df['tag'] = 'surface'\n",
    "aw_df['tag'] = 'atlantic'\n",
    "adw_df['tag'] = 'atlantic_dense'\n",
    "\n",
    "all_df = pd.concat([sf_df, aw_df, adw_df], ignore_index=True)"
   ]
  },
  {
   "cell_type": "code",
   "execution_count": 101,
   "metadata": {},
   "outputs": [],
   "source": [
    "# data processing for Particle data\n",
    "isc_stations = ('PS107_10_3', 'PS107_12_2', 'PS107_14_7', 'PS107_16_2')\n",
    "isc_sel_stb = isc_stb.loc[isc_stb['cruise_station_haul'].str.contains('|'.join(isc_stations))]\n",
    "\n",
    "\n",
    "isc_all_df = pd.DataFrame(columns=['cruise_station_cast','lat', 'lon', 'depth', 'temp', 'sal','turb', 'fluo', 'ctd_total_vol', 'ctd_total_abd', 'med_ESD', 'avg_ESD', 'vol_150-500', 'vol_500-1000', 'vol_total', 'abd_150-500', 'abd_500-1000', 'abd_total' ])\n",
    "for index, value in isc_sel_stb.iterrows():\n",
    "    # select one station from one isc station and get cruise name, station number and profilenumber of ISC\n",
    "    cruise, station, cast, profile_num = value['cruise_station_haul'].split('_')[0], int(float(value['cruise_station_haul'].split('_')[1])), str(value['cruise_station_haul'].split('_')[2]),int(float(value['profile_number']))\n",
    "    # Based on the cruise and profilenumber of ISC import data from excel file\n",
    "    isc_excel = str('IR'+str(profile_num).zfill(2)+'_DownCast_'+cruise+'.xlsx')\n",
    "    for i in isc_file_list:\n",
    "        if i.split(os.sep)[-1] == isc_excel:\n",
    "            lat, lon = value['lat'], value['lon']\n",
    "            particle_range = [150, 500, 1000, 100000] # micro meter\n",
    "            # from here specific station.\n",
    "            isc_ctd_df, vol_spec_df, aggr_con_df, size_spec_df = isc_xlsx(i, 5, particle_range, 'processed')\n",
    "            df = pd.DataFrame(columns=['lat', 'lon', 'depth', 'temp', 'sal', 'turb', 'fluo', 'ctd_total_vol', 'ctd_total_abd', 'med_ESD', 'avg_ESD', 'vol_150-500', 'vol_500-1000', 'vol_total', 'abd_150-500', 'abd_500-1000', 'abd_total' ])\n",
    "            df['depth'], df['sal'], df['temp']  = isc_ctd_df['Depths (m)'], isc_ctd_df['Salinity (PSU)'], isc_ctd_df['Temperature (dC)']\n",
    "            df['turb'], df['fluo'] = isc_ctd_df['Turbidity (NTU)'], isc_ctd_df['Fluorescence (mg/m3)']\n",
    "            df['ctd_total_vol'], df['ctd_total_abd'] = isc_ctd_df['Total Aggregate Volume (ppm)'], isc_ctd_df['Aggregate abundance (#/l)']\n",
    "            df['med_ESD'], df['avg_ESD'] = isc_ctd_df['Median ESD (µm)'], isc_ctd_df['Average ESD (µm)']\n",
    "            df['vol_150-500'], df['vol_500-1000'], df['vol_total'] = vol_spec_df['150-500'], vol_spec_df['500-1000'], vol_spec_df['total']\n",
    "            df['abd_150-500'], df['abd_500-1000'], df['abd_total'] = aggr_con_df['150-500'], aggr_con_df['500-1000'], aggr_con_df['total']\n",
    "            df['lat'], df['lon'] = lat, lon\n",
    "            df['cruise_station_cast'] = str(cruise) +'_'+ str(station) +'_'+ str(cast)\n",
    "            \n",
    "            isc_all_df = isc_all_df.append(df, ignore_index=True)\n",
    "\n",
    "isc_all_df = isc_all_df.dropna()"
   ]
  },
  {
   "cell_type": "code",
   "execution_count": 102,
   "metadata": {},
   "outputs": [],
   "source": [
    "# tag water mass name on the particle data frame\n",
    "wm_isc_dict = {'PS107_10_3': (70, 95), 'PS107_12_2': (70, 155), 'PS107_14_7': (50, 215), 'PS107_16_2': (100, 270)}\n",
    "\n",
    "for key in wm_isc_dict:\n",
    "    up, down = wm_isc_dict[key]\n",
    "    isc_all_df.loc[(isc_all_df['cruise_station_cast']==key) & (isc_all_df['depth']>0) & (isc_all_df['depth']<=up) ,'tag'] = 'surface'\n",
    "    isc_all_df.loc[(isc_all_df['cruise_station_cast']==key) & (isc_all_df['depth']>up) & (isc_all_df['depth']<=down) ,'tag'] = 'atlantic'\n",
    "    isc_all_df.loc[(isc_all_df['cruise_station_cast']==key) & (isc_all_df['depth']>down),'tag'] = 'atlantic_dense'\n"
   ]
  },
  {
   "cell_type": "markdown",
   "metadata": {},
   "source": [
    "# Linear Discriminant analysis"
   ]
  },
  {
   "cell_type": "code",
   "execution_count": 109,
   "metadata": {},
   "outputs": [
    {
     "data": {
      "image/png": "[encoded data removed]",
      "text/plain": [
       "<Figure size 432x288 with 1 Axes>"
      ]
     },
     "metadata": {
      "needs_background": "light"
     },
     "output_type": "display_data"
    }
   ],
   "source": [
    "# LOKI zooplankton\n",
    "# normalise data\n",
    "\n",
    "isc_sel_df = isc_all_df[['abd_150-500','abd_500-1000','abd_total', 'vol_150-500','vol_500-1000','vol_total','avg_ESD', 'tag']]\n",
    "all_df_scaled = StandardScaler().fit_transform(isc_sel_df[['abd_total', 'vol_total', 'avg_ESD']])\n",
    "\n",
    "lda = LinearDiscriminantAnalysis(n_components=2)\n",
    "lda.fit(all_df_scaled, isc_sel_df['tag'])\n",
    "df_lda = lda.transform(all_df_scaled)\n",
    "df_lda_component = pd.DataFrame(df_lda,columns=['x', 'y'])\n",
    "df_lda_component['target'] = all_df['tag']\n",
    "\n",
    "plt.scatter(df_lda_component['x'].loc[df_lda_component['target']=='surface'], df_lda_component['y'].loc[df_lda_component['target']=='surface'], c='red')\n",
    "plt.scatter(df_lda_component['x'].loc[df_lda_component['target']=='atlantic'], df_lda_component['y'].loc[df_lda_component['target']=='atlantic'], c='blue')\n",
    "plt.scatter(df_lda_component['x'].loc[df_lda_component['target']=='atlantic_dense'], df_lda_component['y'].loc[df_lda_component['target']=='atlantic_dense'], c='green')\n",
    "\n",
    "plt.show()\n",
    "plt.close()"
   ]
  },
  {
   "cell_type": "code",
   "execution_count": 108,
   "metadata": {},
   "outputs": [
    {
     "data": {
      "image/png": "[encoded data removed]",
      "text/plain": [
       "<Figure size 432x288 with 1 Axes>"
      ]
     },
     "metadata": {
      "needs_background": "light"
     },
     "output_type": "display_data"
    }
   ],
   "source": [
    "# LOKI zooplankton\n",
    "# normalise data\n",
    "all_df_scaled = StandardScaler().fit_transform(all_df[['Chaetognatha', 'Rhizaria', 'Ostracoda', 'Calanus', 'Heterorhabdus', 'Metridia', 'Microcalanus',\n",
    "          'Oithona', 'Oncaea', 'Paraeuchaeta', 'Pseudocalanus', 'Themisto']])\n",
    "\n",
    "\n",
    "lda = LinearDiscriminantAnalysis(n_components=2)\n",
    "lda.fit(all_df_scaled, all_df['tag'])\n",
    "df_lda = lda.transform(all_df_scaled)\n",
    "df_lda_component = pd.DataFrame(df_lda,columns=['x', 'y'])\n",
    "df_lda_component['target'] = all_df['tag']\n",
    "\n",
    "plt.scatter(df_lda_component['x'].loc[df_lda_component['target']=='surface'], df_lda_component['y'].loc[df_lda_component['target']=='surface'], c='red')\n",
    "plt.scatter(df_lda_component['x'].loc[df_lda_component['target']=='atlantic'], df_lda_component['y'].loc[df_lda_component['target']=='atlantic'], c='blue')\n",
    "plt.scatter(df_lda_component['x'].loc[df_lda_component['target']=='atlantic_dense'], df_lda_component['y'].loc[df_lda_component['target']=='atlantic_dense'], c='green')\n",
    "\n",
    "plt.show()\n",
    "plt.close()"
   ]
  }
 ],
 "metadata": {
  "kernelspec": {
   "display_name": "Python [conda env:.conda-dong_env]",
   "language": "python",
   "name": "conda-env-.conda-dong_env-py"
  },
  "language_info": {
   "codemirror_mode": {
    "name": "ipython",
    "version": 3
   },
   "file_extension": ".py",
   "mimetype": "text/x-python",
   "name": "python",
   "nbconvert_exporter": "python",
   "pygments_lexer": "ipython3",
   "version": "3.8.3"
  }
 },
 "nbformat": 4,
 "nbformat_minor": 4
}
