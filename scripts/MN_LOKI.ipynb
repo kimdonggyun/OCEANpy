{
 "cells": [
  {
   "cell_type": "markdown",
   "metadata": {},
   "source": [
    "# Test Multinet and LOKI"
   ]
  },
  {
   "cell_type": "markdown",
   "metadata": {},
   "source": [
    "# import functions"
   ]
  },
  {
   "cell_type": "code",
   "execution_count": 1,
   "metadata": {},
   "outputs": [],
   "source": [
    "from sqlays import export_sql, import_sql\n",
    "from matheq import Cel_to_Kel, Kel_to_Cel, to_pot_temp\n",
    "from mapscre import station_map, bathy_data, contour_ver, TS_diagram\n",
    "from iscays import sum_up, isc_summary, depth_bin_interval, particle_bin_interval, isc_xlsx, read_isc\n",
    "from ctdays import find_start_row, raw_ctd_to_df\n",
    "from graphcre import deployment_constancy, vertical_each_org_distribution, stacked_vertical_distribution, comp_vertical_distribution\n",
    "from matheq import calDist\n",
    "from timeinfo import day_night\n",
    "from matplotlib import pyplot as plt\n",
    "from matplotlib.patches import Rectangle\n",
    "from matplotlib.patches import Polygon\n",
    "from matplotlib import gridspec\n",
    "import pandas as pd\n",
    "import numpy as np\n",
    "import scipy.stats as stats\n",
    "from scipy.ndimage.filters import gaussian_filter1d\n",
    "import os, glob, datetime, gsw, cmocean, math\n",
    "from scipy.stats import linregress\n",
    "from sklearn.preprocessing import StandardScaler\n",
    "from sklearn.discriminant_analysis import LinearDiscriminantAnalysis\n",
    "from skbio.stats.ordination import cca\n",
    "from mpl_toolkits.basemap import Basemap\n",
    "from mpl_toolkits.basemap import maskoceans\n",
    "from scipy.interpolate import griddata\n",
    "import seaborn as sns"
   ]
  },
  {
   "cell_type": "code",
   "execution_count": null,
   "metadata": {},
   "outputs": [],
   "source": []
  },
  {
   "cell_type": "code",
   "execution_count": null,
   "metadata": {},
   "outputs": [],
   "source": []
  }
 ],
 "metadata": {
  "kernelspec": {
   "display_name": "Python [conda env:.conda-dong_env]",
   "language": "python",
   "name": "conda-env-.conda-dong_env-py"
  },
  "language_info": {
   "codemirror_mode": {
    "name": "ipython",
    "version": 3
   },
   "file_extension": ".py",
   "mimetype": "text/x-python",
   "name": "python",
   "nbconvert_exporter": "python",
   "pygments_lexer": "ipython3",
   "version": "3.8.3"
  }
 },
 "nbformat": 4,
 "nbformat_minor": 4
}
